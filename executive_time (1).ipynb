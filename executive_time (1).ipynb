{
 "cells": [
  {
   "cell_type": "code",
   "execution_count": 284,
   "metadata": {},
   "outputs": [],
   "source": [
    "import copy\n",
    "from collections import OrderedDict\n",
    "from datetime import time\n",
    "import numpy as np\n",
    "import pandas as pd\n",
    "from sklearn import metrics\n",
    "from sklearn.model_selection import train_test_split\n",
    "from sklearn.tree import DecisionTreeClassifier\n",
    "from sklearn.tree import plot_tree\n",
    "import seaborn as sns\n",
    "import matplotlib.pyplot as plt\n",
    "from sklearn.metrics import f1_score\n",
    "from collections import Counter"
   ]
  },
  {
   "cell_type": "code",
   "execution_count": 252,
   "metadata": {},
   "outputs": [],
   "source": [
    "class TrainedModel:\n",
    "    def __init__(self, dataset):\n",
    "        self.clf = DecisionTreeClassifier()\n",
    "\n",
    "        [x_train, y_train] = copy.deepcopy(dataset)\n",
    "\n",
    "        self.class_mapping = {\n",
    "            \"event\": 0,\n",
    "            \"executive_time\": 1,\n",
    "            \"lunch\": 2,\n",
    "            \"meeting\": 3,\n",
    "            \"travel\": 4,\n",
    "        }\n",
    "        \n",
    "        self.pos = self.class_mapping['executive_time']\n",
    "\n",
    "        self.inverse = dict(zip(self.class_mapping.values(), self.class_mapping.keys()))\n",
    "\n",
    "        for i in range(len(x_train)):\n",
    "            for j in range(3):\n",
    "                x_train[i][j] = self.class_mapping[x_train[i][j]]\n",
    "            y_train[i] = self.class_mapping[y_train[i]]\n",
    "\n",
    "        self.clf = self.clf.fit(x_train, y_train)\n",
    "\n",
    "    def predict_one(self, top_category_0901, top_category_1101, top_category_1301):\n",
    "\n",
    "        top_category_0901 = self.class_mapping[top_category_0901]\n",
    "        top_category_1101 = self.class_mapping[top_category_1101]\n",
    "        top_category_1301 = self.class_mapping[top_category_1301]\n",
    "        top_category_1501 = self.clf.predict(\n",
    "            [[top_category_0901, top_category_1101, top_category_1301]]\n",
    "        )\n",
    "\n",
    "        return self.inverse[top_category_1501[0]]\n",
    "\n",
    "    def evaluate_performance(self, dataset):\n",
    "        [x_test, y_test] = copy.deepcopy(dataset)\n",
    "\n",
    "        for i in range(len(x_test)):\n",
    "            if y_test[i] in self.class_mapping.keys():\n",
    "                y_test[i] = self.class_mapping[y_test[i]]\n",
    "            else:\n",
    "                y_test[i] = 5\n",
    "\n",
    "            for j in range(3):\n",
    "                if x_test[i][j] in self.class_mapping.keys():\n",
    "                    x_test[i][j] = self.class_mapping[x_test[i][j]]\n",
    "                else:\n",
    "                    x_test[i][j] = 5\n",
    "\n",
    "        y_pred = self.clf.predict(x_test)\n",
    "\n",
    "        weights = []\n",
    "        for i in range(len(y_pred)):\n",
    "            if y_test[i] == self.pos or y_pred[i] == self.pos:\n",
    "                weights.append(1)\n",
    "            else:\n",
    "                weights.append(0)\n",
    "        return f1_score(y_test, y_pred,average='micro')\n",
    "\n",
    "    def get_confusion_matrix(self, dataset):\n",
    "        [x_test, y_test] = copy.deepcopy(dataset)\n",
    "\n",
    "        for i in range(len(x_test)):\n",
    "            for j in range(3):\n",
    "                if x_test[i][j] in self.class_mapping.keys():\n",
    "                    x_test[i][j] = self.class_mapping[x_test[i][j]]\n",
    "                else:\n",
    "                    x_test[i][j] = 5\n",
    "\n",
    "            if y_test[i] in self.class_mapping.keys():\n",
    "                y_test[i] = self.class_mapping[y_test[i]]\n",
    "            else:\n",
    "                y_test[i] = 5\n",
    "\n",
    "        y_pred = self.clf.predict(x_test)\n",
    "        confusion_matrix = metrics.confusion_matrix(y_test, y_pred)\n",
    "        return confusion_matrix\n",
    "    \n",
    "    def visualize(self):\n",
    "        plot_tree(self.clf)"
   ]
  },
  {
   "cell_type": "code",
   "execution_count": 244,
   "metadata": {},
   "outputs": [],
   "source": [
    "df = pd.read_excel(\n",
    "        \"President Donald Trump Private Schedules, Nov. 7, 2018 to Feb. 2, 2019.xlsx\",\n",
    "        index_col=\"date\",\n",
    "    )\n",
    "dates = list(OrderedDict.fromkeys(df.index.tolist()))\n",
    "no_data_dates = []\n",
    "(\n",
    "    top_categories_0901,\n",
    "    top_categories_1101,\n",
    "    top_categories_1301,\n",
    "    top_categories_1501,\n",
    ") = ([], [], [], [])\n",
    "for date in dates:\n",
    "    cols = df.loc[date]\n",
    "    top_category_0901, top_category_1101, top_category_1301, top_category_1501 = (\n",
    "        None,\n",
    "        None,\n",
    "        None,\n",
    "        None,\n",
    "    )\n",
    "\n",
    "    if len(cols.shape) == 1:\n",
    "        if cols[\"top_category\"] == \"no_data\":\n",
    "            no_data_dates.append(date)\n",
    "            continue\n",
    "        else:\n",
    "            time_starts = [cols[\"time_start\"]]\n",
    "            time_ends = [cols[\"time_end\"]]\n",
    "            top_categories = [cols[\"top_category\"]]\n",
    "    else:\n",
    "        time_starts = cols[\"time_start\"].tolist()\n",
    "        time_ends = cols[\"time_end\"].tolist()\n",
    "        top_categories = cols[\"top_category\"].tolist()\n",
    "\n",
    "    for time_start, time_end, top_category in zip(\n",
    "        time_starts, time_ends, top_categories\n",
    "    ):\n",
    "        if time_start < time(9, 1) < time_end:\n",
    "            top_category_0901 = top_category\n",
    "        if time_start < time(11, 1) < time_end:\n",
    "            top_category_1101 = top_category\n",
    "        if time_start < time(13, 1) < time_end:\n",
    "            top_category_1301 = top_category\n",
    "        if time_start < time(15, 1) < time_end:\n",
    "            top_category_1501 = top_category\n",
    "\n",
    "    top_categories_0901.append(top_category_0901)\n",
    "    top_categories_1101.append(top_category_1101)\n",
    "    top_categories_1301.append(top_category_1301)\n",
    "    top_categories_1501.append(top_category_1501)\n",
    "\n",
    "dates = [i for i in dates if i not in no_data_dates]\n",
    "df = pd.DataFrame(\n",
    "    data={\n",
    "        \"top_category_0901\": top_categories_0901,\n",
    "        \"top_category_1101\": top_categories_1101,\n",
    "        \"top_category_1301\": top_categories_1301,\n",
    "        \"top_category_1501\": top_categories_1501,\n",
    "    },\n",
    "    index=dates,\n",
    ")\n",
    "df.to_csv(\"top_categories.csv\")"
   ]
  },
  {
   "cell_type": "code",
   "execution_count": 267,
   "metadata": {},
   "outputs": [],
   "source": [
    "df = df.dropna(how=\"any\")\n",
    "\n",
    "x = df[\n",
    "    [\"top_category_0901\", \"top_category_1101\", \"top_category_1301\"]\n",
    "].values.tolist()\n",
    "y = df[\"top_category_1501\"].tolist()\n",
    "\n",
    "x_train, x_test, y_train, y_test = train_test_split(x, y, test_size=0.2)"
   ]
  },
  {
   "cell_type": "code",
   "execution_count": 268,
   "metadata": {},
   "outputs": [
    {
     "data": {
      "text/plain": [
       "0.6"
      ]
     },
     "execution_count": 268,
     "metadata": {},
     "output_type": "execute_result"
    }
   ],
   "source": [
    "trained_model_A = TrainedModel([x_train, y_train])\n",
    "\n",
    "performance = trained_model_A.evaluate_performance([x_test, y_test])\n",
    "performance"
   ]
  },
  {
   "cell_type": "code",
   "execution_count": 269,
   "metadata": {},
   "outputs": [
    {
     "data": {
      "text/html": [
       "<div>\n",
       "<style scoped>\n",
       "    .dataframe tbody tr th:only-of-type {\n",
       "        vertical-align: middle;\n",
       "    }\n",
       "\n",
       "    .dataframe tbody tr th {\n",
       "        vertical-align: top;\n",
       "    }\n",
       "\n",
       "    .dataframe thead th {\n",
       "        text-align: right;\n",
       "    }\n",
       "</style>\n",
       "<table border=\"1\" class=\"dataframe\">\n",
       "  <thead>\n",
       "    <tr style=\"text-align: right;\">\n",
       "      <th></th>\n",
       "      <th>0</th>\n",
       "      <th>1</th>\n",
       "      <th>2</th>\n",
       "      <th>3</th>\n",
       "    </tr>\n",
       "  </thead>\n",
       "  <tbody>\n",
       "    <tr>\n",
       "      <td>0</td>\n",
       "      <td>0</td>\n",
       "      <td>2</td>\n",
       "      <td>0</td>\n",
       "      <td>0</td>\n",
       "    </tr>\n",
       "    <tr>\n",
       "      <td>1</td>\n",
       "      <td>0</td>\n",
       "      <td>5</td>\n",
       "      <td>0</td>\n",
       "      <td>0</td>\n",
       "    </tr>\n",
       "    <tr>\n",
       "      <td>2</td>\n",
       "      <td>0</td>\n",
       "      <td>2</td>\n",
       "      <td>0</td>\n",
       "      <td>0</td>\n",
       "    </tr>\n",
       "    <tr>\n",
       "      <td>3</td>\n",
       "      <td>0</td>\n",
       "      <td>0</td>\n",
       "      <td>0</td>\n",
       "      <td>1</td>\n",
       "    </tr>\n",
       "  </tbody>\n",
       "</table>\n",
       "</div>"
      ],
      "text/plain": [
       "   0  1  2  3\n",
       "0  0  2  0  0\n",
       "1  0  5  0  0\n",
       "2  0  2  0  0\n",
       "3  0  0  0  1"
      ]
     },
     "execution_count": 269,
     "metadata": {},
     "output_type": "execute_result"
    }
   ],
   "source": [
    "confusion_matrix = trained_model_A.get_confusion_matrix([x_test, y_test])\n",
    "confusion_matrix\n",
    "pd.DataFrame(confusion_matrix)"
   ]
  },
  {
   "cell_type": "code",
   "execution_count": 248,
   "metadata": {},
   "outputs": [
    {
     "data": {
      "image/png": "[encoded data removed]",
      "text/plain": [
       "<Figure size 432x288 with 1 Axes>"
      ]
     },
     "metadata": {
      "needs_background": "light"
     },
     "output_type": "display_data"
    }
   ],
   "source": [
    "trained_model_A.visualize()"
   ]
  },
  {
   "cell_type": "code",
   "execution_count": 289,
   "metadata": {},
   "outputs": [
    {
     "data": {
      "text/plain": [
       "('executive_time',)"
      ]
     },
     "execution_count": 289,
     "metadata": {},
     "output_type": "execute_result"
    }
   ],
   "source": [
    "trained_model_A.predict_one(\"event\", \"executive_time\", \"meeting\"),"
   ]
  },
  {
   "cell_type": "code",
   "execution_count": 288,
   "metadata": {},
   "outputs": [
    {
     "data": {
      "image/png": "[encoded data removed]",
      "text/plain": [
       "<Figure size 432x288 with 1 Axes>"
      ]
     },
     "metadata": {
      "needs_background": "light"
     },
     "output_type": "display_data"
    }
   ],
   "source": [
    "letter_counts = Counter(y)\n",
    "df = pd.DataFrame.from_dict(letter_counts, orient='index')\n",
    "df.plot(kind='bar')\n",
    "plt.show()"
   ]
  },
  {
   "cell_type": "code",
   "execution_count": null,
   "metadata": {},
   "outputs": [],
   "source": []
  }
 ],
 "metadata": {
  "kernelspec": {
   "display_name": "Python 3",
   "language": "python",
   "name": "python3"
  },
  "language_info": {
   "codemirror_mode": {
    "name": "ipython",
    "version": 3
   },
   "file_extension": ".py",
   "mimetype": "text/x-python",
   "name": "python",
   "nbconvert_exporter": "python",
   "pygments_lexer": "ipython3",
   "version": "3.6.4"
  }
 },
 "nbformat": 4,
 "nbformat_minor": 2
}
